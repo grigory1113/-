{
  "nbformat": 4,
  "nbformat_minor": 0,
  "metadata": {
    "colab": {
      "provenance": []
    },
    "kernelspec": {
      "name": "python3",
      "display_name": "Python 3"
    },
    "language_info": {
      "name": "python"
    }
  },
  "cells": [
    {
      "cell_type": "code",
      "source": [
        "import random"
      ],
      "metadata": {
        "id": "28mAhquA31LR"
      },
      "execution_count": null,
      "outputs": []
    },
    {
      "cell_type": "code",
      "execution_count": null,
      "metadata": {
        "id": "FhK_drXH3kFf"
      },
      "outputs": [],
      "source": [
        "p = 7211\n",
        "\n",
        "\n",
        "def prod(a, b):\n",
        "    return ((a % p) * (b % p)) % p\n",
        "\n",
        "\n",
        "def sum(a, b):\n",
        "    return (a + b) % p\n",
        "\n",
        "\n",
        "def mult(a, b):\n",
        "    if b == 0:\n",
        "        return 0\n",
        "    else:\n",
        "        for i in range(0, p):\n",
        "            if prod(a, i) == p - b:\n",
        "                return i\n",
        "                break\n",
        "\n",
        "\n",
        "def move(mtrx, k, n):\n",
        "    if k == n-1:\n",
        "        if mtrx[k][k] == 0:\n",
        "            return 'no'\n",
        "        if mtrx[k][k] != 0:\n",
        "            return mtrx\n",
        "    for j in range(k+1, n):\n",
        "        if j < n-1:\n",
        "            if mtrx[j][k] != 0:\n",
        "                mtrx[k], mtrx[j] = mtrx[j], mtrx[k]\n",
        "                break\n",
        "                return mtrx\n",
        "        if j == n-1:\n",
        "            if mtrx[j][k] != 0:\n",
        "                mtrx[k], mtrx[j] = mtrx[j], mtrx[k]\n",
        "                return mtrx\n",
        "            if mtrx[j][k] == 0:\n",
        "                return 0\n",
        "                break\n",
        "\n",
        "\n",
        "def sum_str(lst1, lst2, n):\n",
        "    lst0 = []\n",
        "    for i in range(n):\n",
        "        lst0.append(sum(lst1[i], lst2[i]))\n",
        "    return lst0\n",
        "\n",
        "\n",
        "def prod_str(lst1, s, n):\n",
        "    lst = [0 for i in range(n)]\n",
        "    for k in range(n):\n",
        "        lst[k] += prod(lst1[k], s)\n",
        "    return lst"
      ]
    },
    {
      "cell_type": "code",
      "source": [
        "lst = []\n",
        "\n",
        "while True:\n",
        "    x = input()\n",
        "    if len(lst) == 0:\n",
        "        lst += x.split()\n",
        "    elif len(lst) - 1 < 2*int(lst[0])-2:\n",
        "        lst += x.split()\n",
        "    else:\n",
        "        lst += x.split()\n",
        "        break"
      ],
      "metadata": {
        "id": "zRHJ1BR238S8"
      },
      "execution_count": null,
      "outputs": []
    },
    {
      "cell_type": "code",
      "source": [
        "nlist = list(map(int, lst))\n",
        "\n",
        "list1 = nlist[1::]\n",
        "\n",
        "n = max(list1) + 1\n",
        "matrix = [[0 for i in range(n)] for j in range(n)]\n",
        "\n",
        "\n",
        "m = int(len(list1)/2)\n",
        "\n",
        "for i in range(m):\n",
        "    matrix[list1[2*i]][list1[2*i+1]] += random.randint(1, 7210)\n",
        "\n",
        "for i in range(n):\n",
        "    if matrix[i][i] == 0:\n",
        "        if move(matrix, i, n) == 0:\n",
        "            break\n",
        "        if move(matrix, i, n) != 0:\n",
        "            move(matrix, i, n)\n",
        "            for j in range(i+1, n):\n",
        "                matrix[j] = sum_str(matrix[j], prod_str(matrix[i], mult(matrix[i][i], matrix[j][i]), n), n)\n",
        "    else:\n",
        "        for j in range(i+1, n):\n",
        "            matrix[j] = sum_str(matrix[j], prod_str(matrix[i], mult(matrix[i][i], matrix[j][i]), n), n)"
      ],
      "metadata": {
        "id": "0AnYQRCs3--8"
      },
      "execution_count": null,
      "outputs": []
    },
    {
      "cell_type": "code",
      "source": [
        "d = matrix[0][0]\n",
        "for r in range(1, n):\n",
        "    d = prod(d, matrix[r][r])\n",
        "\n",
        "if d == 0:\n",
        "    print('no')\n",
        "else:\n",
        "    print('yes')"
      ],
      "metadata": {
        "id": "5hkDaedm3p38"
      },
      "execution_count": null,
      "outputs": []
    }
  ]
}