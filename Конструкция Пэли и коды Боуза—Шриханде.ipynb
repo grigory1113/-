{
  "nbformat": 4,
  "nbformat_minor": 0,
  "metadata": {
    "colab": {
      "provenance": []
    },
    "kernelspec": {
      "name": "python3",
      "display_name": "Python 3"
    },
    "language_info": {
      "name": "python"
    }
  },
  "cells": [
    {
      "cell_type": "code",
      "execution_count": null,
      "metadata": {
        "id": "mp9HU4Ys5KEr"
      },
      "outputs": [],
      "source": [
        "def prod(a, b):\n",
        "    return ((a % p) * (b % p)) % p"
      ]
    },
    {
      "cell_type": "code",
      "source": [
        "n = int(input())\n",
        "p = n - 1\n",
        "means = [i for i in range(p)]\n",
        "Xi = [-1]\n",
        "for i in range(1,p):\n",
        "    for j in range(1,p):\n",
        "        if prod(means[j], means[j]) == means[i]:\n",
        "            Xi.append(1)\n",
        "            break\n",
        "        elif prod(means[j], means[j]) != means[i] and j == p-1:\n",
        "            Xi.append(-1)"
      ],
      "metadata": {
        "id": "rQPP4Apa5uDd"
      },
      "execution_count": null,
      "outputs": []
    },
    {
      "cell_type": "code",
      "source": [
        "alm_Adamar = [[1 for i in range(p)], Xi]\n",
        "for k in range(1,p):\n",
        "    Xi_shifted = []\n",
        "    Xi_shifted.extend(Xi[-k::])\n",
        "    Xi_shifted.extend(Xi[0:(p-k)])\n",
        "    alm_Adamar.append(Xi_shifted)\n",
        "\n",
        "M_Adamar = [[1] + alm_Adamar[m] for m in range(len(alm_Adamar))]\n",
        "\n",
        "M_Adamar_rev = []\n",
        "for i in range(n):\n",
        "    lst = []\n",
        "    for j in range(n):\n",
        "        lst.append(M_Adamar[i][j]*-1)\n",
        "    M_Adamar_rev.append(lst)"
      ],
      "metadata": {
        "id": "Gvnd5JYr5UQR"
      },
      "execution_count": null,
      "outputs": []
    },
    {
      "cell_type": "code",
      "source": [
        "for i in range(n):\n",
        "    seq = []\n",
        "    for j in range(n):\n",
        "        if M_Adamar[i][j] == 1:\n",
        "            seq.append(1)\n",
        "        elif M_Adamar[i][j] == -1:\n",
        "            seq.append(0)\n",
        "    print(\"\".join(map(str, seq)))\n",
        "\n",
        "for i in range(n):\n",
        "    seq = []\n",
        "    for j in range(n):\n",
        "        if M_Adamar_rev[i][j] == 1:\n",
        "            seq.append(1)\n",
        "        elif M_Adamar_rev[i][j] == -1:\n",
        "            seq.append(0)\n",
        "    print(\"\".join(map(str, seq)))"
      ],
      "metadata": {
        "id": "6I29YEu75bCb"
      },
      "execution_count": null,
      "outputs": []
    }
  ]
}