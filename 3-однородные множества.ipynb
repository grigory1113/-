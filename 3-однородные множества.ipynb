{
  "nbformat": 4,
  "nbformat_minor": 0,
  "metadata": {
    "colab": {
      "provenance": []
    },
    "kernelspec": {
      "name": "python3",
      "display_name": "Python 3"
    },
    "language_info": {
      "name": "python"
    }
  },
  "cells": [
    {
      "cell_type": "code",
      "execution_count": null,
      "metadata": {
        "id": "f5T70kqe7nUi"
      },
      "outputs": [],
      "source": [
        "import sys\n",
        "import math"
      ]
    },
    {
      "cell_type": "code",
      "source": [
        "inp = []\n",
        "for l in sys.stdin:\n",
        "    inp.append(l.split())\n",
        "    if len(inp) == int(inp[0][1]) + 1:\n",
        "        break\n",
        "\n",
        "int_inp = [[int(item) for item in inp[j]] for j in range(int(inp[0][1]) + 1)]\n",
        "\n",
        "clauses = int_inp[1::]\n",
        "\n",
        "n = int_inp[0][0]\n",
        "k = math.ceil(math.log(n, 2))"
      ],
      "metadata": {
        "id": "SIUIe8_Y7sc1"
      },
      "execution_count": null,
      "outputs": []
    },
    {
      "cell_type": "code",
      "source": [
        "def summ(u, v):\n",
        "    b = []\n",
        "    for i in range(len(u)):\n",
        "        if u[i] == v[i]:\n",
        "            b.append(0)\n",
        "        else:\n",
        "            b.append(1)\n",
        "    return b\n",
        "\n",
        "\n",
        "def G(k):\n",
        "    M = []\n",
        "    M.append([1 for i in range(2**k)])\n",
        "    for i in range(k):\n",
        "        a = [0 for u in range(2**k)]\n",
        "        for j in range(2**i):\n",
        "            for s in range(2*j*(2**(k-(i+1))), 2*j*(2**(k-(i+1)))+2**(k-(i+1))):\n",
        "                a[s] += 1\n",
        "        M.append(a)\n",
        "    return M\n",
        "\n",
        "\n",
        "def subs(X):\n",
        "    power_X = [[]]\n",
        "    for item in X:\n",
        "        power_X += [x + [item] for x in power_X]\n",
        "    return power_X"
      ],
      "metadata": {
        "id": "AmRSo-Qc70Sw"
      },
      "execution_count": null,
      "outputs": []
    },
    {
      "cell_type": "code",
      "source": [
        "pset = subs([i for i in range(1, k + 1)])\n",
        "pset1 = subs([i for i in range(k + 1)])\n",
        "\n",
        "\n",
        "hypoth = []\n",
        "G = G(k)\n",
        "\n",
        "\n",
        "for i in range(len(pset1)):\n",
        "    s = [0 for s in range(2**k)]\n",
        "    for j in range(len(pset1[i])):\n",
        "        s = summ(G[pset1[i][j]],s)\n",
        "    hypoth.append(s)"
      ],
      "metadata": {
        "id": "6sXRSwrx77GQ"
      },
      "execution_count": null,
      "outputs": []
    },
    {
      "cell_type": "code",
      "source": [
        "ans = []\n",
        "\n",
        "for p in hypoth:\n",
        "    sum = 0\n",
        "    for q in clauses:\n",
        "        s = 0\n",
        "        for t in range(3):\n",
        "            if p[abs(q[t]) - 1] == 1:\n",
        "                if q[t] > 0:\n",
        "                    s += 1\n",
        "            elif p[abs(q[t]) - 1] == 0:\n",
        "                if q[t] < 0:\n",
        "                    s += 1\n",
        "        if s > 0:\n",
        "            sum += 1\n",
        "    if sum / len(clauses) >= 7 / 8:\n",
        "        ans.extend(p[0:n])\n",
        "        break\n",
        "\n",
        "answ = list(map(str, ans))\n",
        "answer = ''.join(answ)\n",
        "print(answer)"
      ],
      "metadata": {
        "id": "IjwQmct58Aja"
      },
      "execution_count": null,
      "outputs": []
    }
  ]
}