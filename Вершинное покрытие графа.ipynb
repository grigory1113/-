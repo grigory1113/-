{
  "nbformat": 4,
  "nbformat_minor": 0,
  "metadata": {
    "colab": {
      "provenance": []
    },
    "kernelspec": {
      "name": "python3",
      "display_name": "Python 3"
    },
    "language_info": {
      "name": "python"
    }
  },
  "cells": [
    {
      "cell_type": "code",
      "execution_count": null,
      "metadata": {
        "id": "V6BVLv-z6Lg3"
      },
      "outputs": [],
      "source": [
        "from scipy import optimize\n",
        "from scipy.sparse import csr_matrix\n",
        "import sys"
      ]
    },
    {
      "cell_type": "code",
      "source": [
        "set=[]\n",
        "for i in sys.stdin:\n",
        "    for j in i.split():\n",
        "        set.append(j)\n",
        "\n",
        "set = [int(set[i]) for i in range(len(set))]"
      ],
      "metadata": {
        "id": "_s-f76Xk6rfE"
      },
      "execution_count": null,
      "outputs": []
    },
    {
      "cell_type": "code",
      "source": [
        "mtrx = [[0 for i in range(set[0])] for j in range(set[set[0] + 1])]\n",
        "E = []\n",
        "for i in range(set[set[0] + 1]):\n",
        "    e = []\n",
        "    for j in range(2):\n",
        "        e.append(set[set[0] + 2 + 2*i + j])\n",
        "    E.append(e)\n",
        "\n",
        "for i in range(set[set[0] + 1]):\n",
        "    for j in range(2):\n",
        "        mtrx[i][E[i][j]] += -1\n",
        "\n",
        "A = mtrx\n",
        "A = csr_matrix(A)\n",
        "c = [set[i] for i in range(1, set[0] + 1)]\n",
        "b = [-1 for i in range(set[set[0] + 1])]"
      ],
      "metadata": {
        "id": "rVbqM5rr61yY"
      },
      "execution_count": null,
      "outputs": []
    },
    {
      "cell_type": "code",
      "source": [
        "res = optimize.linprog(c, A_ub=A, b_ub=b, bounds=(0, 1),\n",
        "    method='interior-point')\n",
        "res_1 = res.x\n",
        "\n",
        "res_rounded = []\n",
        "for item in res_1:\n",
        "    res_rounded.append(item.round())\n",
        "res_int = list(map(int, res_rounded))\n",
        "\n",
        "answer = []\n",
        "for i in range(set[0]):\n",
        "    if res_int[i] == 1:\n",
        "        answer.append(i)\n",
        "\n",
        "def List_str(list_1):\n",
        "    str = ''\n",
        "\n",
        "    for i in list_1:\n",
        "        str += i\n",
        "\n",
        "    return str\n",
        "\n",
        "print(\" \".join(map(str, answer)))"
      ],
      "metadata": {
        "id": "GRt9Vi8K65cw"
      },
      "execution_count": null,
      "outputs": []
    }
  ]
}