{
  "nbformat": 4,
  "nbformat_minor": 0,
  "metadata": {
    "colab": {
      "provenance": []
    },
    "kernelspec": {
      "name": "python3",
      "display_name": "Python 3"
    },
    "language_info": {
      "name": "python"
    }
  },
  "cells": [
    {
      "cell_type": "code",
      "source": [
        "import math\n",
        "n = int(input())\n",
        "k = math.ceil(math.log(n, 2))"
      ],
      "metadata": {
        "id": "fC0WtDAR1CC_"
      },
      "execution_count": null,
      "outputs": []
    },
    {
      "cell_type": "code",
      "execution_count": null,
      "metadata": {
        "id": "gEmJG8Bw03Yy"
      },
      "outputs": [],
      "source": [
        "def dif(p):\n",
        "    if p == 0:\n",
        "        return 0\n",
        "    if p == 1:\n",
        "        return 1\n",
        "    if p > 1:\n",
        "        return dif(p - 1) + 2**(p - 1)\n",
        "\n",
        "\n",
        "def num(a, b):\n",
        "    if a == 0:\n",
        "        return 0\n",
        "    if a > 0:\n",
        "        return a * b - dif(a - 1)\n",
        "\n",
        "\n",
        "def ord(m):\n",
        "    if m == 0:\n",
        "        return 1\n",
        "    if m == 1:\n",
        "        return 1\n",
        "    if m > 1:\n",
        "        return 2**(m - 1)\n",
        "\n",
        "\n",
        "def last(x):\n",
        "    if x % 2**(k - 1) != 0:\n",
        "        return x % 2**(k - 1)\n",
        "    if x % 2**(k - 1) == 0:\n",
        "        return 2**(k - 1)\n",
        "\n",
        "\n",
        "def res(z, f):\n",
        "    if z == 0:\n",
        "        return 0\n",
        "    if (z + 1) % 2**(math.floor(math.log(z, 2))) != 0:\n",
        "        a = math.floor(math.log(z, 2) + 1) * f\n",
        "        b = 2**(math.floor(math.log(z, 2)))\n",
        "        c = (z + 1) % 2**(math.floor(math.log(z, 2)))\n",
        "        return a - (b - c)\n",
        "    elif (z + 1) % 2**(math.floor(math.log(z, 2))) == 0:\n",
        "        return math.floor(math.log(z, 2) + 1) * f"
      ]
    },
    {
      "cell_type": "code",
      "source": [
        "for j in range(k):\n",
        "    if j == 0:\n",
        "        for i in range(n - 1):\n",
        "            print(\"GATE \" + str(n + i) + \" \" + \"OR \" + str(i) + \" \" + str(i + 1))\n",
        "    if j > 0:\n",
        "        for d in range(n - 2**j):\n",
        "            if d < 2**j:\n",
        "                print(\"GATE \" + str(num(j + 1, n) + d) + \" \" + \"OR\" + \" \" + str(res(d,\n",
        "                                                        n)) + \" \" + str(num(j, n) + 2**(j - 1) + d))\n",
        "            else:\n",
        "                print(\"GATE \" + str(num(j + 1, n) + d) + \" \" + \"OR\" + \" \" + str(num(j,\n",
        "                                n) + 2**(j - 1) + d - 2**j) + \" \" + str(num(j, n) + 2**(j - 1) + d))"
      ],
      "metadata": {
        "id": "rR2oDhvM082i"
      },
      "execution_count": null,
      "outputs": []
    },
    {
      "cell_type": "code",
      "source": [
        "t = 0\n",
        "for u in range(k + 1):\n",
        "    if u == k:\n",
        "        for i in range(last(n)):\n",
        "            print(\"OUTPUT \" + str(t) + \" \" + str(num(u, n) + i))\n",
        "            t += 1\n",
        "    else:\n",
        "        for l in range(ord(u)):\n",
        "            print(\"OUTPUT \" + str(t) + \" \" + str(num(u, n) + l))\n",
        "            t += 1"
      ],
      "metadata": {
        "id": "aq2nWsCO1G6B"
      },
      "execution_count": null,
      "outputs": []
    }
  ]
}